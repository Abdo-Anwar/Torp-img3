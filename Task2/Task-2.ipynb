{
 "cells": [
  {
   "cell_type": "code",
   "execution_count": 1,
   "metadata": {},
   "outputs": [
    {
     "data": {
      "text/plain": [
       "'n:\\\\Torbedo\\\\Software Traning\\\\img\\\\Image Processing Session 3\\\\tasks\\\\Task2'"
      ]
     },
     "execution_count": 1,
     "metadata": {},
     "output_type": "execute_result"
    }
   ],
   "source": [
    "import numpy as np\n",
    "import cv2 as cv\n",
    "import os\n",
    "import matplotlib.pyplot as plt\n",
    "\n",
    "os.getcwd()"
   ]
  },
  {
   "cell_type": "code",
   "execution_count": null,
   "metadata": {},
   "outputs": [],
   "source": [
    "def make_fig(images, titles, plots, size):\n",
    "    fig = plt.figure(figsize=size)\n",
    "    for i in range(len(images)):\n",
    "        fig.add_subplot(plots[0], plots[1], i+1)\n",
    "        image = images[i]\n",
    "        plt.imshow(image[:,:,::-1]) # converting from bgr to rgb\n",
    "        plt.title(titles[i])\n",
    "    plt.show()\n",
    "\n",
    "def make_fig_gray(images, titles, plots, size):\n",
    "    fig = plt.figure(figsize=size)\n",
    "    for i in range(len(images)):\n",
    "        fig.add_subplot(plots[0], plots[1], i+1)\n",
    "        plt.imshow(images[i], cmap='gray')\n",
    "        plt.title(titles[i])\n",
    "    plt.show()\n",
    "\n",
    "def display_image(image, title='original', colored=None):\n",
    "    plt.figure(figsize=(10, 10))\n",
    "    if colored:\n",
    "        plt.imshow(image[:,:,::-1]) # converting from bgr to rgb\n",
    "    else:\n",
    "        plt.imshow(image, cmap='gray')\n",
    "    plt.axis(\"off\")\n",
    "    plt.title(title)\n",
    "    plt.show()\n",
    "\n",
    "def display2Images(img1, img2):\n",
    "    fig= plt.figure(figsize=(10,20))\n",
    "    fig.add_subplot(1, 2, 1)\n",
    "    plt.imshow(img1, cmap='gray')\n",
    "    plt.axis('off')\n",
    "    plt.title(\"First\")\n",
    "    \n",
    "    fig.add_subplot(1, 2, 2)\n",
    "    plt.imshow(img2, cmap='gray')\n",
    "    plt.axis('off')\n",
    "    plt.title(\"Second\")\n",
    "    plt.show()"
   ]
  },
  {
   "cell_type": "code",
   "execution_count": null,
   "metadata": {},
   "outputs": [],
   "source": []
  }
 ],
 "metadata": {
  "kernelspec": {
   "display_name": "Python 3",
   "language": "python",
   "name": "python3"
  },
  "language_info": {
   "codemirror_mode": {
    "name": "ipython",
    "version": 3
   },
   "file_extension": ".py",
   "mimetype": "text/x-python",
   "name": "python",
   "nbconvert_exporter": "python",
   "pygments_lexer": "ipython3",
   "version": "3.11.9"
  }
 },
 "nbformat": 4,
 "nbformat_minor": 2
}
